{
 "cells": [
  {
   "cell_type": "code",
   "execution_count": 1,
   "metadata": {},
   "outputs": [
    {
     "name": "stderr",
     "output_type": "stream",
     "text": [
      "/home/jasjeet/local/miniconda/lib/python3.7/site-packages/tensorflow/python/framework/dtypes.py:516: FutureWarning: Passing (type, 1) or '1type' as a synonym of type is deprecated; in a future version of numpy, it will be understood as (type, (1,)) / '(1,)type'.\n",
      "  _np_qint8 = np.dtype([(\"qint8\", np.int8, 1)])\n",
      "/home/jasjeet/local/miniconda/lib/python3.7/site-packages/tensorflow/python/framework/dtypes.py:517: FutureWarning: Passing (type, 1) or '1type' as a synonym of type is deprecated; in a future version of numpy, it will be understood as (type, (1,)) / '(1,)type'.\n",
      "  _np_quint8 = np.dtype([(\"quint8\", np.uint8, 1)])\n",
      "/home/jasjeet/local/miniconda/lib/python3.7/site-packages/tensorflow/python/framework/dtypes.py:518: FutureWarning: Passing (type, 1) or '1type' as a synonym of type is deprecated; in a future version of numpy, it will be understood as (type, (1,)) / '(1,)type'.\n",
      "  _np_qint16 = np.dtype([(\"qint16\", np.int16, 1)])\n",
      "/home/jasjeet/local/miniconda/lib/python3.7/site-packages/tensorflow/python/framework/dtypes.py:519: FutureWarning: Passing (type, 1) or '1type' as a synonym of type is deprecated; in a future version of numpy, it will be understood as (type, (1,)) / '(1,)type'.\n",
      "  _np_quint16 = np.dtype([(\"quint16\", np.uint16, 1)])\n",
      "/home/jasjeet/local/miniconda/lib/python3.7/site-packages/tensorflow/python/framework/dtypes.py:520: FutureWarning: Passing (type, 1) or '1type' as a synonym of type is deprecated; in a future version of numpy, it will be understood as (type, (1,)) / '(1,)type'.\n",
      "  _np_qint32 = np.dtype([(\"qint32\", np.int32, 1)])\n",
      "/home/jasjeet/local/miniconda/lib/python3.7/site-packages/tensorflow/python/framework/dtypes.py:525: FutureWarning: Passing (type, 1) or '1type' as a synonym of type is deprecated; in a future version of numpy, it will be understood as (type, (1,)) / '(1,)type'.\n",
      "  np_resource = np.dtype([(\"resource\", np.ubyte, 1)])\n",
      "/home/jasjeet/local/miniconda/lib/python3.7/site-packages/tensorboard/compat/tensorflow_stub/dtypes.py:541: FutureWarning: Passing (type, 1) or '1type' as a synonym of type is deprecated; in a future version of numpy, it will be understood as (type, (1,)) / '(1,)type'.\n",
      "  _np_qint8 = np.dtype([(\"qint8\", np.int8, 1)])\n",
      "/home/jasjeet/local/miniconda/lib/python3.7/site-packages/tensorboard/compat/tensorflow_stub/dtypes.py:542: FutureWarning: Passing (type, 1) or '1type' as a synonym of type is deprecated; in a future version of numpy, it will be understood as (type, (1,)) / '(1,)type'.\n",
      "  _np_quint8 = np.dtype([(\"quint8\", np.uint8, 1)])\n",
      "/home/jasjeet/local/miniconda/lib/python3.7/site-packages/tensorboard/compat/tensorflow_stub/dtypes.py:543: FutureWarning: Passing (type, 1) or '1type' as a synonym of type is deprecated; in a future version of numpy, it will be understood as (type, (1,)) / '(1,)type'.\n",
      "  _np_qint16 = np.dtype([(\"qint16\", np.int16, 1)])\n",
      "/home/jasjeet/local/miniconda/lib/python3.7/site-packages/tensorboard/compat/tensorflow_stub/dtypes.py:544: FutureWarning: Passing (type, 1) or '1type' as a synonym of type is deprecated; in a future version of numpy, it will be understood as (type, (1,)) / '(1,)type'.\n",
      "  _np_quint16 = np.dtype([(\"quint16\", np.uint16, 1)])\n",
      "/home/jasjeet/local/miniconda/lib/python3.7/site-packages/tensorboard/compat/tensorflow_stub/dtypes.py:545: FutureWarning: Passing (type, 1) or '1type' as a synonym of type is deprecated; in a future version of numpy, it will be understood as (type, (1,)) / '(1,)type'.\n",
      "  _np_qint32 = np.dtype([(\"qint32\", np.int32, 1)])\n",
      "/home/jasjeet/local/miniconda/lib/python3.7/site-packages/tensorboard/compat/tensorflow_stub/dtypes.py:550: FutureWarning: Passing (type, 1) or '1type' as a synonym of type is deprecated; in a future version of numpy, it will be understood as (type, (1,)) / '(1,)type'.\n",
      "  np_resource = np.dtype([(\"resource\", np.ubyte, 1)])\n",
      "Using TensorFlow backend.\n"
     ]
    }
   ],
   "source": [
    "#%load_ext autoreload\n",
    "#%autoreload 2\n",
    "from __future__ import division\n",
    "from __future__ import print_function\n",
    "\n",
    "import sys, os, gc, math\n",
    "import tensorflow as tf\n",
    "import numpy as np\n",
    "from sklearn import linear_model\n",
    "from sklearn.metrics import roc_curve, auc\n",
    "from scipy.fftpack import dct,idct\n",
    "\n",
    "\n",
    "sys.path.append('../')\n",
    "sys.path.append('../models/')\n",
    "os.environ[\"CUDA_VISIBLE_DEVICES\"] = \"0\"\n",
    "\n",
    "from models.neural_network import NeuralNetwork\n",
    "from models.cnn import CNN\n",
    "from models.util import *\n",
    "\n",
    "\n",
    "#Seed used for choosing classes, training points, and test points.\n",
    "#SEED = 14\n",
    "SEED=11"
   ]
  },
  {
   "cell_type": "code",
   "execution_count": 2,
   "metadata": {},
   "outputs": [],
   "source": [
    "#Define params of model\n",
    "input_shape = (28,28,1)\n",
    "num_classes = 10"
   ]
  },
  {
   "cell_type": "markdown",
   "metadata": {},
   "source": [
    "# Load/Create Network and Adversarial data"
   ]
  },
  {
   "cell_type": "code",
   "execution_count": 3,
   "metadata": {
    "scrolled": true
   },
   "outputs": [
    {
     "name": "stdout",
     "output_type": "stream",
     "text": [
      "WARNING:tensorflow:From ../models/neural_network.py:48: The name tf.set_random_seed is deprecated. Please use tf.compat.v1.set_random_seed instead.\n",
      "\n",
      "WARNING:tensorflow:From ../models/neural_network.py:79: The name tf.GPUOptions is deprecated. Please use tf.compat.v1.GPUOptions instead.\n",
      "\n",
      "WARNING:tensorflow:From ../models/neural_network.py:80: The name tf.Session is deprecated. Please use tf.compat.v1.Session instead.\n",
      "\n",
      "WARNING:tensorflow:From ../models/neural_network.py:80: The name tf.ConfigProto is deprecated. Please use tf.compat.v1.ConfigProto instead.\n",
      "\n",
      "WARNING:tensorflow:From ../models/cnn.py:68: The name tf.placeholder is deprecated. Please use tf.compat.v1.placeholder instead.\n",
      "\n",
      "WARNING:tensorflow:From /home/jasjeet/local/miniconda/lib/python3.7/site-packages/keras/backend/tensorflow_backend.py:3976: The name tf.nn.max_pool is deprecated. Please use tf.nn.max_pool2d instead.\n",
      "\n",
      "WARNING:tensorflow:From /home/jasjeet/local/miniconda/lib/python3.7/site-packages/keras/backend/tensorflow_backend.py:3445: calling dropout (from tensorflow.python.ops.nn_ops) with keep_prob is deprecated and will be removed in a future version.\n",
      "Instructions for updating:\n",
      "Please use `rate` instead of `keep_prob`. Rate should be set to `rate = 1 - keep_prob`.\n",
      "WARNING:tensorflow:From ../models/neural_network.py:336: softmax_cross_entropy_with_logits (from tensorflow.python.ops.nn_ops) is deprecated and will be removed in a future version.\n",
      "Instructions for updating:\n",
      "\n",
      "Future major versions of TensorFlow will allow gradients to flow\n",
      "into the labels input on backprop by default.\n",
      "\n",
      "See `tf.nn.softmax_cross_entropy_with_logits_v2`.\n",
      "\n"
     ]
    }
   ],
   "source": [
    "%%capture one\n",
    "#Load model from disk\n",
    "model_name = 'MNIST-L2-PGD'\n",
    "model_save_path = '../trained_models/' + model_name + '-model.json'\n",
    "weights_save_path = '../trained_models/' + model_name + 'weights'\n",
    "model = CNN(model_name=model_name, dataset='mnist',seed=SEED,project=False)\n",
    "print ('Total Model Params: %d' % model.num_params)\n",
    "#model.load_model(model_save_path, weights_save_path) "
   ]
  },
  {
   "cell_type": "code",
   "execution_count": 4,
   "metadata": {},
   "outputs": [],
   "source": [
    "#Shuffle training data\n",
    "unshuffled_data = model.train_data\n",
    "unshuffled_labels = model.train_labels\n",
    "shuffle_idx = np.arange(0,unshuffled_data.shape[0])\n",
    "np.random.shuffle(shuffle_idx)\n",
    "shuffled_data = unshuffled_data[shuffle_idx]\n",
    "shuffled_labels = unshuffled_labels[shuffle_idx]"
   ]
  },
  {
   "cell_type": "code",
   "execution_count": 5,
   "metadata": {},
   "outputs": [],
   "source": [
    "%%capture three\n",
    "num_test_samples_per_class = 10\n",
    "num_test_samples = num_classes*num_test_samples_per_class\n",
    "\n",
    "#Generate test points\n",
    "test_indices = model.gen_rand_indices_all_classes(y=model.val_labels, seed=SEED, num_samples=num_test_samples_per_class)"
   ]
  },
  {
   "cell_type": "code",
   "execution_count": 6,
   "metadata": {},
   "outputs": [],
   "source": [
    "results = []"
   ]
  },
  {
   "cell_type": "code",
   "execution_count": 7,
   "metadata": {},
   "outputs": [
    {
     "name": "stdout",
     "output_type": "stream",
     "text": [
      "WARNING:tensorflow:\n",
      "The TensorFlow contrib module will not be included in TensorFlow 2.0.\n",
      "For more information, please see:\n",
      "  * https://github.com/tensorflow/community/blob/master/rfcs/20180907-contrib-sunset.md\n",
      "  * https://github.com/tensorflow/addons\n",
      "  * https://github.com/tensorflow/io (for I/O related ops)\n",
      "If you depend on functionality not listed there, please file an issue.\n",
      "\n",
      "WARNING:tensorflow:From <ipython-input-7-eea2f1e3d83b>:3: get_or_create_global_step (from tensorflow.contrib.framework.python.ops.variables) is deprecated and will be removed in a future version.\n",
      "Instructions for updating:\n",
      "Please switch to tf.train.get_or_create_global_step\n",
      "0.125 0.1484375 0.14 0\n",
      "0.640625 0.859375 0.98 100\n",
      "0.78125 0.8984375 0.96 200\n",
      "0.7890625 0.9609375 0.98 300\n",
      "0.8671875 0.9453125 0.99 400\n",
      "0.8671875 0.953125 0.98 500\n",
      "0.90625 0.96875 0.98 600\n",
      "0.9140625 0.953125 0.97 700\n",
      "0.859375 0.9453125 0.98 800\n",
      "0.9609375 0.9765625 0.98 900\n",
      "0.921875 0.9609375 0.99 1000\n",
      "Saved model to disk\n",
      "0.9296875 0.9765625 0.96 1100\n",
      "0.875 0.9453125 0.99 1200\n",
      "0.921875 0.953125 0.99 1300\n",
      "0.9140625 0.9609375 0.98 1400\n",
      "0.9140625 0.96875 0.98 1500\n",
      "0.90625 0.96875 0.98 1600\n",
      "0.9296875 0.96875 0.97 1700\n",
      "0.90625 0.96875 0.99 1800\n",
      "0.875 0.96875 0.99 1900\n",
      "0.9609375 0.984375 0.99 2000\n",
      "Saved model to disk\n",
      "0.921875 0.96875 0.98 2100\n",
      "0.9375 0.9921875 0.97 2200\n",
      "0.8828125 0.9453125 0.98 2300\n",
      "0.90625 0.953125 0.98 2400\n",
      "0.9296875 1.0 0.98 2500\n",
      "0.90625 0.96875 0.98 2600\n",
      "0.9453125 0.984375 0.98 2700\n",
      "0.9296875 0.96875 0.98 2800\n",
      "0.9296875 0.9765625 0.98 2900\n",
      "0.953125 0.96875 0.98 3000\n",
      "Saved model to disk\n",
      "0.921875 0.9921875 0.99 3100\n",
      "0.9375 0.96875 0.99 3200\n",
      "0.9609375 0.9921875 0.99 3300\n",
      "0.921875 0.984375 0.98 3400\n",
      "0.9453125 0.984375 0.98 3500\n",
      "0.921875 0.984375 0.98 3600\n",
      "0.8984375 0.9609375 0.98 3700\n",
      "0.9296875 0.9921875 0.99 3800\n",
      "0.90625 0.9765625 0.98 3900\n",
      "0.9140625 0.9765625 0.98 4000\n",
      "Saved model to disk\n",
      "0.890625 0.9609375 0.99 4100\n",
      "0.8671875 0.953125 0.99 4200\n",
      "0.9609375 0.984375 1.0 4300\n",
      "0.9609375 0.9765625 0.98 4400\n",
      "0.9375 0.984375 0.99 4500\n",
      "0.9375 0.9921875 0.99 4600\n",
      "0.8828125 0.96875 1.0 4700\n",
      "0.9140625 0.984375 0.98 4800\n",
      "0.9140625 0.96875 0.98 4900\n",
      "0.921875 0.9765625 0.99 5000\n",
      "Saved model to disk\n",
      "0.96875 0.9765625 0.98 5100\n",
      "0.9375 0.984375 1.0 5200\n",
      "0.921875 0.9765625 0.99 5300\n",
      "0.9140625 0.9765625 0.98 5400\n",
      "0.875 0.9609375 0.98 5500\n",
      "0.9375 0.984375 0.99 5600\n",
      "0.9609375 0.9921875 0.98 5700\n",
      "0.9453125 0.9921875 0.99 5800\n",
      "0.890625 0.96875 0.98 5900\n",
      "0.9296875 0.984375 0.98 6000\n",
      "Saved model to disk\n",
      "0.90625 0.96875 0.99 6100\n",
      "0.9375 0.984375 0.98 6200\n",
      "0.890625 0.9609375 0.99 6300\n",
      "0.953125 0.984375 0.99 6400\n",
      "0.953125 0.984375 0.99 6500\n",
      "0.953125 0.984375 0.99 6600\n",
      "0.9296875 0.9609375 0.98 6700\n",
      "0.921875 0.96875 0.99 6800\n",
      "0.96875 0.984375 0.98 6900\n",
      "0.984375 1.0 0.99 7000\n",
      "Saved model to disk\n",
      "0.9765625 1.0 0.99 7100\n",
      "0.9375 0.984375 0.99 7200\n",
      "0.9140625 0.9921875 0.98 7300\n",
      "0.9375 0.9921875 0.98 7400\n",
      "0.953125 0.9765625 0.98 7500\n",
      "0.8984375 0.984375 1.0 7600\n",
      "0.921875 0.9609375 0.98 7700\n",
      "0.9375 0.9921875 1.0 7800\n",
      "0.90625 0.9765625 0.99 7900\n",
      "0.96875 1.0 0.97 8000\n",
      "Saved model to disk\n",
      "0.921875 0.9765625 0.99 8100\n",
      "0.9375 0.9765625 0.99 8200\n",
      "0.90625 0.984375 0.98 8300\n",
      "0.9375 0.9921875 0.98 8400\n",
      "0.9453125 0.9921875 0.99 8500\n",
      "0.90625 0.9765625 0.98 8600\n",
      "0.9296875 0.9921875 0.98 8700\n",
      "0.8984375 0.9765625 0.98 8800\n",
      "0.921875 0.9609375 0.99 8900\n",
      "0.9453125 0.984375 0.99 9000\n",
      "Saved model to disk\n",
      "0.9296875 0.9921875 0.98 9100\n",
      "0.921875 0.96875 0.98 9200\n",
      "0.9453125 0.984375 0.98 9300\n",
      "0.9140625 0.96875 0.98 9400\n",
      "0.9375 0.9921875 0.98 9500\n",
      "0.875 0.9609375 0.98 9600\n",
      "0.921875 1.0 0.99 9700\n",
      "0.9453125 0.9765625 0.98 9800\n",
      "0.96875 0.9921875 1.0 9900\n"
     ]
    }
   ],
   "source": [
    "#%%capture training\n",
    "test_dict ={model.input_placeholder: model.val_data[test_indices],model.labels_placeholder: model.val_labels[test_indices]}\n",
    "global_step = tf.contrib.framework.get_or_create_global_step()\n",
    "learning_rate = 1e-2\n",
    "model.train_step = tf.train.AdamOptimizer(learning_rate).minimize(model.training_loss, global_step=global_step)\n",
    "init = tf.global_variables_initializer()\n",
    "model.sess.run(init)\n",
    "batch_size = 128\n",
    "num_training_steps =5000\n",
    "for i in range(num_training_steps):\n",
    "        j = int(i % int(shuffled_data.shape[0]/batch_size))\n",
    "        x_batch, y_batch = shuffled_data[j*batch_size:j*batch_size + batch_size], shuffled_labels[j*batch_size:j*batch_size + batch_size]\n",
    "\n",
    "        # Compute Adversarial Perturbations\n",
    "        x_batch_adv = model.pgd_perturb(x_batch, y_batch)\n",
    "   \n",
    "        #create model inputs\n",
    "        adv_dict={model.input_placeholder: x_batch_adv,model.labels_placeholder: y_batch}\n",
    "        act_dict={model.input_placeholder: x_batch,model.labels_placeholder: y_batch}\n",
    "\n",
    "        # Actual training step\n",
    "        model.sess.run(model.train_step, feed_dict=adv_dict)\n",
    "    \n",
    "        if i % 100 == 0:\n",
    "            adv_accuracy = model.sess.run(model.accuracy, feed_dict=adv_dict)\n",
    "            act_accuracy = model.sess.run(model.accuracy, feed_dict=act_dict)\n",
    "            test_acc = model.sess.run(model.accuracy, feed_dict=test_dict)\n",
    "            results.append((adv_accuracy, act_accuracy, test_acc, i))\n",
    "            print(adv_accuracy, act_accuracy, test_acc, i)\n",
    "        \n",
    "        if i % 1000 == 0 and i > 0:\n",
    "            model_name = 'MNIST-PGD-iter-' + str(i)\n",
    "            model_save_path = '../trained_models/' + model_name + '-model.json'\n",
    "            weights_save_path = '../trained_models/' + model_name + 'weights'\n",
    "            model.save_model(model_save_path, weights_save_path)   "
   ]
  },
  {
   "cell_type": "code",
   "execution_count": 8,
   "metadata": {},
   "outputs": [
    {
     "name": "stdout",
     "output_type": "stream",
     "text": [
      "Saved model to disk\n"
     ]
    }
   ],
   "source": [
    "model_name = 'MNIST-PGD-iter-' + str(num_training_steps)\n",
    "model_save_path = '../trained_models/' + model_name + '-model.json'\n",
    "weights_save_path = '../trained_models/' + model_name + 'weights'\n",
    "model.save_model(model_save_path, weights_save_path) \n",
    "\n",
    "np.save('../data/results-mnist-pgd', results)"
   ]
  },
  {
   "cell_type": "code",
   "execution_count": 9,
   "metadata": {},
   "outputs": [],
   "source": [
    "from keras.optimizers import Adam"
   ]
  },
  {
   "cell_type": "code",
   "execution_count": 10,
   "metadata": {},
   "outputs": [
    {
     "name": "stdout",
     "output_type": "stream",
     "text": [
      "WARNING:tensorflow:From /home/jasjeet/local/miniconda/lib/python3.7/site-packages/keras/optimizers.py:790: The name tf.train.Optimizer is deprecated. Please use tf.compat.v1.train.Optimizer instead.\n",
      "\n",
      "Loaded model from disk\n",
      "6073/6073 [==============================] - 0s 62us/step\n",
      "Model Accuracy REG: 0.97300\n"
     ]
    }
   ],
   "source": [
    "model = CNN(model_name=model_name, dataset='mnist',seed=SEED,project=False)\n",
    "model.model.compile(loss='categorical_crossentropy',\n",
    "              optimizer=Adam(lr=1e-3),\n",
    "              metrics=['accuracy'])\n",
    "model.load_model(model_save_path, weights_save_path) \n",
    "print ('Model Accuracy REG: %.5f' % (model.model.evaluate(model.test_data,model.test_labels)[1]))"
   ]
  },
  {
   "cell_type": "code",
   "execution_count": 11,
   "metadata": {},
   "outputs": [],
   "source": [
    "%%capture two\n",
    "#Get training samples\n",
    "num_train_samples = 1000\n",
    "data_indices = model.gen_rand_indices(low=int(model.train_data.shape[0]/2), high=model.train_data.shape[0], seed=SEED, num_samples=num_train_samples)\n",
    "train_data = model.train_data[data_indices]\n",
    "train_data_labels = model.train_labels[data_indices]\n",
    "train_data_labels_int = np.argmax(train_data_labels, axis=1)"
   ]
  },
  {
   "cell_type": "code",
   "execution_count": 12,
   "metadata": {},
   "outputs": [],
   "source": [
    "%%capture three\n",
    "num_test_samples_per_class = 100\n",
    "num_test_samples = num_classes*num_test_samples_per_class\n",
    "\n",
    "#Generate test points\n",
    "test_indices = model.gen_rand_indices_all_classes(y=model.test_labels, seed=SEED, num_samples=num_test_samples_per_class)"
   ]
  },
  {
   "cell_type": "markdown",
   "metadata": {},
   "source": [
    "**GREYBOX ATTACKS**"
   ]
  },
  {
   "cell_type": "code",
   "execution_count": 13,
   "metadata": {
    "scrolled": true
   },
   "outputs": [
    {
     "name": "stdout",
     "output_type": "stream",
     "text": [
      "WARNING:tensorflow:From /home/jasjeet/local/miniconda/lib/python3.7/site-packages/tensorflow/python/ops/math_grad.py:1250: add_dispatch_support.<locals>.wrapper (from tensorflow.python.ops.array_ops) is deprecated and will be removed in a future version.\n",
      "Instructions for updating:\n",
      "Use tf.where in 2.0, which has the same broadcast rule as np.where\n",
      "WARNING:tensorflow:From ../cleverhans/attacks.py:1012: py_func (from tensorflow.python.ops.script_ops) is deprecated and will be removed in a future version.\n",
      "Instructions for updating:\n",
      "tf.py_func is deprecated in TF V2. Instead, there are two\n",
      "    options available in V2.\n",
      "    - tf.py_function takes a python function which manipulates tf eager\n",
      "    tensors instead of numpy arrays. It's easy to convert a tf eager tensor to\n",
      "    an ndarray (just call tensor.numpy()) but having access to eager tensors\n",
      "    means `tf.py_function`s can use accelerators such as GPUs as well as\n",
      "    being differentiable using a gradient tape.\n",
      "    - tf.numpy_function maintains the semantics of the deprecated tf.py_func\n",
      "    (it is not differentiable, and manipulates numpy arrays). It drops the\n",
      "    stateful argument making all functions stateful.\n",
      "    \n"
     ]
    }
   ],
   "source": [
    "%%capture four\n",
    "import time\n",
    "#Get Regular, JSMA, DF, and CW test points\n",
    "reg_data = model.test_data[test_indices]\n",
    "start_time = time.time()\n",
    "cwl2_data = model.generate_perturbed_data(model.test_data[test_indices], seed=SEED, perturbation='CW-l2')\n",
    "print(\"--- CW-l2: %s seconds ---\" % (time.time() - start_time))\n",
    "start_time = time.time()\n",
    "df_data = model.generate_perturbed_data(model.test_data[test_indices], model.test_labels[test_indices],seed=SEED, perturbation='DF', nb_candidate=num_classes)\n",
    "print(\"--- DF: %s seconds ---\" % (time.time() - start_time))"
   ]
  },
  {
   "cell_type": "code",
   "execution_count": 14,
   "metadata": {},
   "outputs": [],
   "source": [
    "%%capture five\n",
    "np.save('../data/reg_data_mnist_pgd', reg_data)\n",
    "np.save('../data/cwl2_data_mnist_pgd', cwl2_data)\n",
    "np.save('../data/df_data_mnist_pgd', df_data)"
   ]
  },
  {
   "cell_type": "code",
   "execution_count": null,
   "metadata": {},
   "outputs": [],
   "source": [
    "%%capture six\n",
    "jsma_data = model.generate_perturbed_data(model.test_data[test_indices], model.test_labels[test_indices], seed=SEED, perturbation='JSMA', iterations=100)\n",
    "print(\"--- JSMA: %s seconds ---\" % (time.time() - start_time))\n",
    "start_time = time.time()\n",
    "cwl0_data = model.generate_perturbed_data(model.test_data[test_indices], seed=SEED, perturbation='CW-l0')\n",
    "print(\"--- CW: %s seconds ---\" % (time.time() - start_time))"
   ]
  },
  {
   "cell_type": "code",
   "execution_count": null,
   "metadata": {},
   "outputs": [],
   "source": [
    "%%capture seven\n",
    "bim_data = model.generate_perturbed_data(model.test_data[test_indices], seed=SEED, perturbation='BIM')"
   ]
  },
  {
   "cell_type": "code",
   "execution_count": null,
   "metadata": {},
   "outputs": [],
   "source": [
    "%%capture eight\n",
    "np.save('../data/cwl0_data_mnist_pgd', cwl0_data)\n",
    "np.save('../data/bim_data_mnist_pgd', bim_data)\n",
    "np.save('../data/jsma_data_mnist_pgd', jsma_data)"
   ]
  },
  {
   "cell_type": "code",
   "execution_count": 20,
   "metadata": {},
   "outputs": [
    {
     "name": "stdout",
     "output_type": "stream",
     "text": [
      "6073/6073 [==============================] - 1s 195us/step\n",
      "Model Accuracy REG: 0.97300\n",
      "1000/1000 [==============================] - 0s 49us/step\n",
      "Model Accuracy CW-l2: 0.83700\n",
      "1000/1000 [==============================] - 0s 48us/step\n",
      "Model Accuracy DF: 0.06400\n"
     ]
    }
   ],
   "source": [
    "print ('Model Accuracy REG: %.5f' % (model.model.evaluate(model.test_data,model.test_labels)[1]))\n",
    "print ('Model Accuracy CW-l2: %.5f' % (model.model.evaluate(cwl2_data,model.test_labels[test_indices])[1]))\n",
    "print ('Model Accuracy DF: %.5f' % (model.model.evaluate(df_data,model.test_labels[test_indices])[1]))"
   ]
  },
  {
   "cell_type": "code",
   "execution_count": 21,
   "metadata": {},
   "outputs": [
    {
     "name": "stdout",
     "output_type": "stream",
     "text": [
      "1000/1000 [==============================] - 0s 50us/step\n",
      "Model Accuracy CW-l0: 0.14100\n",
      "1000/1000 [==============================] - 0s 51us/step\n",
      "Model Accuracy JSMA: 0.93500\n",
      "1000/1000 [==============================] - 0s 52us/step\n",
      "Model Accuracy BIM: 0.95800\n"
     ]
    }
   ],
   "source": [
    "print ('Model Accuracy CW-l0: %.5f' % (model.model.evaluate(cwl0_data,model.test_labels[test_indices])[1]))\n",
    "print ('Model Accuracy JSMA: %.5f' % (model.model.evaluate(jsma_data,model.test_labels[test_indices])[1]))\n",
    "print ('Model Accuracy BIM: %.5f' % (model.model.evaluate(bim_data,model.test_labels[test_indices])[1]))"
   ]
  }
 ],
 "metadata": {
  "kernelspec": {
   "display_name": "Python 3",
   "language": "python",
   "name": "python3"
  },
  "language_info": {
   "codemirror_mode": {
    "name": "ipython",
    "version": 3
   },
   "file_extension": ".py",
   "mimetype": "text/x-python",
   "name": "python",
   "nbconvert_exporter": "python",
   "pygments_lexer": "ipython3",
   "version": "3.7.4"
  }
 },
 "nbformat": 4,
 "nbformat_minor": 2
}
